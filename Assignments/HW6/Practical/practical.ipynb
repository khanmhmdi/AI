{
 "cells": [
  {
   "cell_type": "markdown",
   "metadata": {},
   "source": [
    "# 1."
   ]
  },
  {
   "cell_type": "code",
   "execution_count": 133,
   "metadata": {
    "ExecuteTime": {
     "end_time": "2020-07-13T18:29:28.078115Z",
     "start_time": "2020-07-13T18:29:28.068703Z"
    }
   },
   "outputs": [],
   "source": [
    "import pandas as pd\n",
    "import numpy as np"
   ]
  },
  {
   "cell_type": "markdown",
   "metadata": {},
   "source": [
    "## Reading Data"
   ]
  },
  {
   "cell_type": "code",
   "execution_count": 134,
   "metadata": {
    "ExecuteTime": {
     "end_time": "2020-07-13T18:29:29.521351Z",
     "start_time": "2020-07-13T18:29:29.489568Z"
    }
   },
   "outputs": [],
   "source": [
    "df = pd.read_csv('./housing.csv')"
   ]
  },
  {
   "cell_type": "code",
   "execution_count": 135,
   "metadata": {
    "ExecuteTime": {
     "end_time": "2020-07-13T18:29:30.485638Z",
     "start_time": "2020-07-13T18:29:30.469519Z"
    }
   },
   "outputs": [
    {
     "data": {
      "text/plain": [
       "(20640, 10)"
      ]
     },
     "execution_count": 135,
     "metadata": {},
     "output_type": "execute_result"
    }
   ],
   "source": [
    "df.shape"
   ]
  },
  {
   "cell_type": "markdown",
   "metadata": {},
   "source": [
    "## Cleaning Data"
   ]
  },
  {
   "cell_type": "code",
   "execution_count": 136,
   "metadata": {
    "ExecuteTime": {
     "end_time": "2020-07-13T18:29:31.718310Z",
     "start_time": "2020-07-13T18:29:31.683519Z"
    }
   },
   "outputs": [
    {
     "data": {
      "text/plain": [
       "(20433, 10)"
      ]
     },
     "execution_count": 136,
     "metadata": {},
     "output_type": "execute_result"
    }
   ],
   "source": [
    "df = df.dropna()\n",
    "df.shape"
   ]
  },
  {
   "cell_type": "markdown",
   "metadata": {},
   "source": [
    "## One Hot Encoding"
   ]
  },
  {
   "cell_type": "code",
   "execution_count": 137,
   "metadata": {
    "ExecuteTime": {
     "end_time": "2020-07-13T18:29:33.828113Z",
     "start_time": "2020-07-13T18:29:33.813555Z"
    }
   },
   "outputs": [
    {
     "data": {
      "text/plain": [
       "array(['NEAR BAY', '<1H OCEAN', 'INLAND', 'NEAR OCEAN', 'ISLAND'],\n",
       "      dtype=object)"
      ]
     },
     "execution_count": 137,
     "metadata": {},
     "output_type": "execute_result"
    }
   ],
   "source": [
    "df['ocean_proximity'].unique()"
   ]
  },
  {
   "cell_type": "code",
   "execution_count": 138,
   "metadata": {
    "ExecuteTime": {
     "end_time": "2020-07-13T18:29:35.096265Z",
     "start_time": "2020-07-13T18:29:35.066846Z"
    }
   },
   "outputs": [],
   "source": [
    "one_hot_encoding = pd.get_dummies(df['ocean_proximity'])\n",
    "ocean_approximities = list(one_hot_encoding.keys())\n",
    "for ocean_approximity in ocean_approximities:\n",
    "    df[ocean_approximity] = one_hot_encoding[ocean_approximity]\n",
    "df = df.drop(['ocean_proximity'], axis=1)"
   ]
  },
  {
   "cell_type": "markdown",
   "metadata": {},
   "source": [
    "## Mean Normalization"
   ]
  },
  {
   "cell_type": "code",
   "execution_count": 139,
   "metadata": {
    "ExecuteTime": {
     "end_time": "2020-07-13T18:29:36.538833Z",
     "start_time": "2020-07-13T18:29:36.502667Z"
    }
   },
   "outputs": [],
   "source": [
    "df = (df-df.mean())/df.std()"
   ]
  },
  {
   "cell_type": "markdown",
   "metadata": {},
   "source": [
    "## Splitting Data"
   ]
  },
  {
   "cell_type": "code",
   "execution_count": 140,
   "metadata": {
    "ExecuteTime": {
     "end_time": "2020-07-13T18:29:38.735628Z",
     "start_time": "2020-07-13T18:29:38.730331Z"
    }
   },
   "outputs": [],
   "source": [
    "msk = np.random.rand(len(df)) <= 0.7\n",
    "train = df[msk]\n",
    "test= df[~msk]"
   ]
  },
  {
   "cell_type": "code",
   "execution_count": 141,
   "metadata": {
    "ExecuteTime": {
     "end_time": "2020-07-13T18:29:40.046586Z",
     "start_time": "2020-07-13T18:29:39.925013Z"
    }
   },
   "outputs": [
    {
     "data": {
      "text/html": [
       "<div>\n",
       "<style scoped>\n",
       "    .dataframe tbody tr th:only-of-type {\n",
       "        vertical-align: middle;\n",
       "    }\n",
       "\n",
       "    .dataframe tbody tr th {\n",
       "        vertical-align: top;\n",
       "    }\n",
       "\n",
       "    .dataframe thead th {\n",
       "        text-align: right;\n",
       "    }\n",
       "</style>\n",
       "<table border=\"1\" class=\"dataframe\">\n",
       "  <thead>\n",
       "    <tr style=\"text-align: right;\">\n",
       "      <th></th>\n",
       "      <th>longitude</th>\n",
       "      <th>latitude</th>\n",
       "      <th>housing_median_age</th>\n",
       "      <th>total_rooms</th>\n",
       "      <th>total_bedrooms</th>\n",
       "      <th>population</th>\n",
       "      <th>households</th>\n",
       "      <th>median_income</th>\n",
       "      <th>&lt;1H OCEAN</th>\n",
       "      <th>INLAND</th>\n",
       "      <th>ISLAND</th>\n",
       "      <th>NEAR BAY</th>\n",
       "      <th>NEAR OCEAN</th>\n",
       "    </tr>\n",
       "  </thead>\n",
       "  <tbody>\n",
       "    <tr>\n",
       "      <th>0</th>\n",
       "      <td>-1.327281</td>\n",
       "      <td>1.051692</td>\n",
       "      <td>0.982139</td>\n",
       "      <td>-0.803793</td>\n",
       "      <td>-0.970301</td>\n",
       "      <td>-0.973296</td>\n",
       "      <td>-0.976809</td>\n",
       "      <td>2.345106</td>\n",
       "      <td>-0.890217</td>\n",
       "      <td>-0.682697</td>\n",
       "      <td>-0.015644</td>\n",
       "      <td>2.828592</td>\n",
       "      <td>-0.384177</td>\n",
       "    </tr>\n",
       "    <tr>\n",
       "      <th>1</th>\n",
       "      <td>-1.322290</td>\n",
       "      <td>1.042330</td>\n",
       "      <td>-0.606195</td>\n",
       "      <td>2.042080</td>\n",
       "      <td>1.348243</td>\n",
       "      <td>0.861318</td>\n",
       "      <td>1.670332</td>\n",
       "      <td>2.332575</td>\n",
       "      <td>-0.890217</td>\n",
       "      <td>-0.682697</td>\n",
       "      <td>-0.015644</td>\n",
       "      <td>2.828592</td>\n",
       "      <td>-0.384177</td>\n",
       "    </tr>\n",
       "    <tr>\n",
       "      <th>2</th>\n",
       "      <td>-1.332272</td>\n",
       "      <td>1.037649</td>\n",
       "      <td>1.855723</td>\n",
       "      <td>-0.535176</td>\n",
       "      <td>-0.825541</td>\n",
       "      <td>-0.819749</td>\n",
       "      <td>-0.843406</td>\n",
       "      <td>1.782896</td>\n",
       "      <td>-0.890217</td>\n",
       "      <td>-0.682697</td>\n",
       "      <td>-0.015644</td>\n",
       "      <td>2.828592</td>\n",
       "      <td>-0.384177</td>\n",
       "    </tr>\n",
       "    <tr>\n",
       "      <th>4</th>\n",
       "      <td>-1.337263</td>\n",
       "      <td>1.037649</td>\n",
       "      <td>1.855723</td>\n",
       "      <td>-0.461959</td>\n",
       "      <td>-0.611959</td>\n",
       "      <td>-0.758860</td>\n",
       "      <td>-0.628914</td>\n",
       "      <td>-0.013143</td>\n",
       "      <td>-0.890217</td>\n",
       "      <td>-0.682697</td>\n",
       "      <td>-0.015644</td>\n",
       "      <td>2.828592</td>\n",
       "      <td>-0.384177</td>\n",
       "    </tr>\n",
       "    <tr>\n",
       "      <th>5</th>\n",
       "      <td>-1.337263</td>\n",
       "      <td>1.037649</td>\n",
       "      <td>1.855723</td>\n",
       "      <td>-0.785946</td>\n",
       "      <td>-0.770959</td>\n",
       "      <td>-0.892993</td>\n",
       "      <td>-0.801554</td>\n",
       "      <td>0.087211</td>\n",
       "      <td>-0.890217</td>\n",
       "      <td>-0.682697</td>\n",
       "      <td>-0.015644</td>\n",
       "      <td>2.828592</td>\n",
       "      <td>-0.384177</td>\n",
       "    </tr>\n",
       "    <tr>\n",
       "      <th>...</th>\n",
       "      <td>...</td>\n",
       "      <td>...</td>\n",
       "      <td>...</td>\n",
       "      <td>...</td>\n",
       "      <td>...</td>\n",
       "      <td>...</td>\n",
       "      <td>...</td>\n",
       "      <td>...</td>\n",
       "      <td>...</td>\n",
       "      <td>...</td>\n",
       "      <td>...</td>\n",
       "      <td>...</td>\n",
       "      <td>...</td>\n",
       "    </tr>\n",
       "    <tr>\n",
       "      <th>20633</th>\n",
       "      <td>-0.977906</td>\n",
       "      <td>1.664888</td>\n",
       "      <td>-0.129695</td>\n",
       "      <td>-0.254662</td>\n",
       "      <td>-0.298707</td>\n",
       "      <td>-0.302634</td>\n",
       "      <td>-0.307177</td>\n",
       "      <td>-0.695871</td>\n",
       "      <td>-0.890217</td>\n",
       "      <td>1.464708</td>\n",
       "      <td>-0.015644</td>\n",
       "      <td>-0.353516</td>\n",
       "      <td>-0.384177</td>\n",
       "    </tr>\n",
       "    <tr>\n",
       "      <th>20634</th>\n",
       "      <td>-0.992879</td>\n",
       "      <td>1.702335</td>\n",
       "      <td>-0.050278</td>\n",
       "      <td>-0.139344</td>\n",
       "      <td>-0.339050</td>\n",
       "      <td>-0.338814</td>\n",
       "      <td>-0.406575</td>\n",
       "      <td>-0.083537</td>\n",
       "      <td>-0.890217</td>\n",
       "      <td>1.464708</td>\n",
       "      <td>-0.015644</td>\n",
       "      <td>-0.353516</td>\n",
       "      <td>-0.384177</td>\n",
       "    </tr>\n",
       "    <tr>\n",
       "      <th>20635</th>\n",
       "      <td>-0.758299</td>\n",
       "      <td>1.800633</td>\n",
       "      <td>-0.288528</td>\n",
       "      <td>-0.444570</td>\n",
       "      <td>-0.388886</td>\n",
       "      <td>-0.511774</td>\n",
       "      <td>-0.443196</td>\n",
       "      <td>-1.216697</td>\n",
       "      <td>-0.890217</td>\n",
       "      <td>1.464708</td>\n",
       "      <td>-0.015644</td>\n",
       "      <td>-0.353516</td>\n",
       "      <td>-0.384177</td>\n",
       "    </tr>\n",
       "    <tr>\n",
       "      <th>20636</th>\n",
       "      <td>-0.818192</td>\n",
       "      <td>1.805314</td>\n",
       "      <td>-0.844446</td>\n",
       "      <td>-0.887535</td>\n",
       "      <td>-0.920466</td>\n",
       "      <td>-0.943292</td>\n",
       "      <td>-1.008198</td>\n",
       "      <td>-0.692027</td>\n",
       "      <td>-0.890217</td>\n",
       "      <td>1.464708</td>\n",
       "      <td>-0.015644</td>\n",
       "      <td>-0.353516</td>\n",
       "      <td>-0.384177</td>\n",
       "    </tr>\n",
       "    <tr>\n",
       "      <th>20637</th>\n",
       "      <td>-0.823183</td>\n",
       "      <td>1.777229</td>\n",
       "      <td>-0.923862</td>\n",
       "      <td>-0.175038</td>\n",
       "      <td>-0.125468</td>\n",
       "      <td>-0.368817</td>\n",
       "      <td>-0.173773</td>\n",
       "      <td>-1.143143</td>\n",
       "      <td>-0.890217</td>\n",
       "      <td>1.464708</td>\n",
       "      <td>-0.015644</td>\n",
       "      <td>-0.353516</td>\n",
       "      <td>-0.384177</td>\n",
       "    </tr>\n",
       "  </tbody>\n",
       "</table>\n",
       "<p>14347 rows × 13 columns</p>\n",
       "</div>"
      ],
      "text/plain": [
       "       longitude  latitude  housing_median_age  total_rooms  total_bedrooms  \\\n",
       "0      -1.327281  1.051692            0.982139    -0.803793       -0.970301   \n",
       "1      -1.322290  1.042330           -0.606195     2.042080        1.348243   \n",
       "2      -1.332272  1.037649            1.855723    -0.535176       -0.825541   \n",
       "4      -1.337263  1.037649            1.855723    -0.461959       -0.611959   \n",
       "5      -1.337263  1.037649            1.855723    -0.785946       -0.770959   \n",
       "...          ...       ...                 ...          ...             ...   \n",
       "20633  -0.977906  1.664888           -0.129695    -0.254662       -0.298707   \n",
       "20634  -0.992879  1.702335           -0.050278    -0.139344       -0.339050   \n",
       "20635  -0.758299  1.800633           -0.288528    -0.444570       -0.388886   \n",
       "20636  -0.818192  1.805314           -0.844446    -0.887535       -0.920466   \n",
       "20637  -0.823183  1.777229           -0.923862    -0.175038       -0.125468   \n",
       "\n",
       "       population  households  median_income  <1H OCEAN    INLAND    ISLAND  \\\n",
       "0       -0.973296   -0.976809       2.345106  -0.890217 -0.682697 -0.015644   \n",
       "1        0.861318    1.670332       2.332575  -0.890217 -0.682697 -0.015644   \n",
       "2       -0.819749   -0.843406       1.782896  -0.890217 -0.682697 -0.015644   \n",
       "4       -0.758860   -0.628914      -0.013143  -0.890217 -0.682697 -0.015644   \n",
       "5       -0.892993   -0.801554       0.087211  -0.890217 -0.682697 -0.015644   \n",
       "...           ...         ...            ...        ...       ...       ...   \n",
       "20633   -0.302634   -0.307177      -0.695871  -0.890217  1.464708 -0.015644   \n",
       "20634   -0.338814   -0.406575      -0.083537  -0.890217  1.464708 -0.015644   \n",
       "20635   -0.511774   -0.443196      -1.216697  -0.890217  1.464708 -0.015644   \n",
       "20636   -0.943292   -1.008198      -0.692027  -0.890217  1.464708 -0.015644   \n",
       "20637   -0.368817   -0.173773      -1.143143  -0.890217  1.464708 -0.015644   \n",
       "\n",
       "       NEAR BAY  NEAR OCEAN  \n",
       "0      2.828592   -0.384177  \n",
       "1      2.828592   -0.384177  \n",
       "2      2.828592   -0.384177  \n",
       "4      2.828592   -0.384177  \n",
       "5      2.828592   -0.384177  \n",
       "...         ...         ...  \n",
       "20633 -0.353516   -0.384177  \n",
       "20634 -0.353516   -0.384177  \n",
       "20635 -0.353516   -0.384177  \n",
       "20636 -0.353516   -0.384177  \n",
       "20637 -0.353516   -0.384177  \n",
       "\n",
       "[14347 rows x 13 columns]"
      ]
     },
     "execution_count": 141,
     "metadata": {},
     "output_type": "execute_result"
    }
   ],
   "source": [
    "labels = train['median_house_value']\n",
    "train.drop(['median_house_value'], axis=1)\n"
   ]
  },
  {
   "cell_type": "code",
   "execution_count": 142,
   "metadata": {
    "ExecuteTime": {
     "end_time": "2020-07-13T18:29:43.885711Z",
     "start_time": "2020-07-13T18:29:43.871537Z"
    }
   },
   "outputs": [
    {
     "data": {
      "text/plain": [
       "0        2.128767\n",
       "1        1.313594\n",
       "2        1.258152\n",
       "4        1.172390\n",
       "5        0.544334\n",
       "           ...   \n",
       "20633   -0.940475\n",
       "20634   -0.780213\n",
       "20635   -1.115465\n",
       "20636   -1.124128\n",
       "20637   -0.992452\n",
       "Name: median_house_value, Length: 14347, dtype: float64"
      ]
     },
     "execution_count": 142,
     "metadata": {},
     "output_type": "execute_result"
    }
   ],
   "source": [
    "labels"
   ]
  },
  {
   "cell_type": "code",
   "execution_count": 143,
   "metadata": {
    "ExecuteTime": {
     "end_time": "2020-07-13T18:29:46.425746Z",
     "start_time": "2020-07-13T18:29:46.409038Z"
    }
   },
   "outputs": [
    {
     "data": {
      "text/plain": [
       "14"
      ]
     },
     "execution_count": 143,
     "metadata": {},
     "output_type": "execute_result"
    }
   ],
   "source": [
    "feature_no = train.shape[1]\n",
    "feature_no"
   ]
  },
  {
   "cell_type": "code",
   "execution_count": 151,
   "metadata": {
    "ExecuteTime": {
     "end_time": "2020-07-13T18:37:38.059174Z",
     "start_time": "2020-07-13T18:37:38.002734Z"
    }
   },
   "outputs": [],
   "source": [
    "def gradient_descent(train, labels, learning_rate=0.01, iterations=1000, w= None, b = None):\n",
    "    if w is None:\n",
    "        w = np.random.rand(1, feature_no) #random weight\n",
    "    if b is None:\n",
    "        b = np.random.rand() #random bias\n",
    "    N = len(train) #number of train data\n",
    "    \n",
    "    mse = 0\n",
    "    mse_list = list()\n",
    "    delta_w = np.zeros((1, feature_no))\n",
    "    delta_b = 0\n",
    "    for iter in range(iterations * N):\n",
    "        data_index = iter % N\n",
    "        x = train[data_index]\n",
    "        label = labels[data_index]\n",
    "\n",
    "        pred = w.dot(x)[0]\n",
    "        f = label - (pred + b)\n",
    "        \n",
    "        delta_w -= learning_rate * (-2 * x.T * f / N)\n",
    "        delta_b -= learning_rate * (-2 * f / N)\n",
    "        \n",
    "        mse += f ** 2\n",
    "        # Update every epoch\n",
    "        if iter % N == 0:\n",
    "            w += delta_w\n",
    "            b += delta_b\n",
    "            permu = np.random.permutation(N)\n",
    "            train = train[permu]\n",
    "            labels = labels[permu]\n",
    "            delta_w = np.zeros((1, feature_no))\n",
    "            delta_b = 0\n",
    "            mse_list.append(mse)\n",
    "#             print(\"current loss: \" , mse)\n",
    "            mse = 0\n",
    "\n",
    "    w = w + delta_w\n",
    "    b = b + delta_b\n",
    "    return w, b, mse_list"
   ]
  },
  {
   "cell_type": "code",
   "execution_count": 145,
   "metadata": {
    "ExecuteTime": {
     "end_time": "2020-07-13T18:29:52.446191Z",
     "start_time": "2020-07-13T18:29:50.189072Z"
    },
    "tags": []
   },
   "outputs": [
    {
     "name": "stdout",
     "output_type": "stream",
     "text": [
      "current loss:  0.7553548074629521\n",
      "current loss:  50445.1391750473\n",
      "current loss:  46233.23946062383\n",
      "current loss:  42486.874190249386\n",
      "current loss:  39145.56170401554\n",
      "current loss:  36157.34065902566\n",
      "current loss:  33477.52303479193\n",
      "current loss:  31067.633040264842\n",
      "current loss:  28894.50394264565\n",
      "current loss:  26929.509071846634\n"
     ]
    }
   ],
   "source": [
    "squared_error = 0\n",
    "train_data = np.array(train)\n",
    "w, b, mse_list = gradient_descent(train_data, np.array(labels), iterations=10)\n",
    "#     squared_error += (labels[index] - weights.dot(x.T))[0] ** 2"
   ]
  },
  {
   "cell_type": "markdown",
   "metadata": {},
   "source": [
    "# 2."
   ]
  },
  {
   "cell_type": "code",
   "execution_count": null,
   "metadata": {},
   "outputs": [],
   "source": []
  },
  {
   "cell_type": "markdown",
   "metadata": {},
   "source": [
    "# 3."
   ]
  },
  {
   "cell_type": "code",
   "execution_count": 158,
   "metadata": {
    "ExecuteTime": {
     "end_time": "2020-07-13T18:44:01.313981Z",
     "start_time": "2020-07-13T18:44:01.293889Z"
    }
   },
   "outputs": [],
   "source": [
    "import matplotlib.pyplot as plt"
   ]
  },
  {
   "cell_type": "markdown",
   "metadata": {},
   "source": [
    "**PS:** In the following cell, you can replace `test` with `train_data` to see how well our model works!"
   ]
  },
  {
   "cell_type": "code",
   "execution_count": null,
   "metadata": {
    "ExecuteTime": {
     "start_time": "2020-07-13T18:48:02.374Z"
    }
   },
   "outputs": [],
   "source": [
    "learning_rates = [0.1, 0.05, 0.01, 0.001]\n",
    "for lr in learning_rates:\n",
    "    plt.title('learning rate: {}'.format(lr))\n",
    "    w, b, mse_list = gradient_descent(train_data, np.array(labels), learning_rate=lr, iterations=10)\n",
    "    points = list()\n",
    "    for i, mse in enumerate(mse_list):\n",
    "        points.append((i + 1, mse))\n",
    "    plt.xlabel('Iteration')\n",
    "    plt.ylabel('Mean Squared Error')\n",
    "    plt.plot(points)\n",
    "    plt.show()"
   ]
  }
 ],
 "metadata": {
  "kernelspec": {
   "display_name": "Python 3",
   "language": "python",
   "name": "python3"
  },
  "language_info": {
   "codemirror_mode": {
    "name": "ipython",
    "version": 3
   },
   "file_extension": ".py",
   "mimetype": "text/x-python",
   "name": "python",
   "nbconvert_exporter": "python",
   "pygments_lexer": "ipython3",
   "version": "3.6.9"
  }
 },
 "nbformat": 4,
 "nbformat_minor": 2
}
