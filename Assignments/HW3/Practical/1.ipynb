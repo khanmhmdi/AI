{
 "cells": [
  {
   "cell_type": "markdown",
   "metadata": {},
   "source": [
    "# Backtracking and Arc Consistency"
   ]
  },
  {
   "cell_type": "code",
   "execution_count": 1,
   "metadata": {},
   "outputs": [],
   "source": [
    "n = int(input())\n",
    "domains = {}\n",
    "teams_info = {}\n",
    "\n",
    "def select_unassigned_variable(assignment):\n",
    "    for variable in list(domains.keys()):\n",
    "        if variable not in assignment:\n",
    "            return variable\n",
    "\n",
    "def recursive_backtracking(assignment, csp):\n",
    "    if len(assignment) == n:\n",
    "        return assignment\n",
    "    var = select_unassigned_variable(assignment)\n",
    "    \n",
    "\n",
    "def backtracking_search(csp):\n",
    "    return recursive_backtracking({}, csp)\n",
    "\n",
    "\n",
    "for i in range(2 * n):\n",
    "    team, power = list(map(int, input().split()))\n",
    "    teams_info[team] = power\n",
    "\n",
    "for i in range(1, n + 1):\n",
    "    domains[i] = [d for d in range(n + 1, 2 * n + 1)]"
   ]
  },
  {
   "cell_type": "code",
   "execution_count": 48,
   "metadata": {},
   "outputs": [
    {
     "name": "stdout",
     "output_type": "stream",
     "text": [
      "d_i: 4 d_j: 4 counter: 1\n",
      "d_i: 4 d_j: 5 counter: 1\n",
      "d_i: 4 d_j: 6 counter: 1\n",
      "d_i: 5 d_j: 4 counter: 0\n",
      "d_i: 5 d_j: 5 counter: 1\n",
      "d_i: 5 d_j: 6 counter: 1\n",
      "d_i: 6 d_j: 4 counter: 0\n",
      "d_i: 6 d_j: 5 counter: 0\n",
      "d_i: 6 d_j: 6 counter: 1\n",
      "{1: [4, 5, 6], 2: [4, 5, 6], 3: [4, 5, 6]}\n",
      "d_i: 4 d_j: 4 counter: 1\n",
      "d_i: 4 d_j: 5 counter: 1\n",
      "d_i: 4 d_j: 6 counter: 1\n",
      "d_i: 5 d_j: 4 counter: 0\n",
      "d_i: 5 d_j: 5 counter: 1\n",
      "d_i: 5 d_j: 6 counter: 1\n",
      "d_i: 6 d_j: 4 counter: 0\n",
      "d_i: 6 d_j: 5 counter: 0\n",
      "d_i: 6 d_j: 6 counter: 1\n",
      "{1: [4, 5, 6], 2: [4, 5, 6], 3: [4, 5, 6]}\n",
      "d_i: 4 d_j: 4 counter: 1\n",
      "d_i: 4 d_j: 5 counter: 1\n",
      "d_i: 4 d_j: 6 counter: 1\n",
      "d_i: 5 d_j: 4 counter: 0\n",
      "d_i: 5 d_j: 5 counter: 1\n",
      "d_i: 5 d_j: 6 counter: 1\n",
      "d_i: 6 d_j: 4 counter: 0\n",
      "d_i: 6 d_j: 5 counter: 0\n",
      "d_i: 6 d_j: 6 counter: 1\n",
      "{1: [4, 5, 6], 2: [4, 5, 6], 3: [4, 5, 6]}\n",
      "d_i: 4 d_j: 4 counter: 1\n",
      "d_i: 4 d_j: 5 counter: 1\n",
      "d_i: 4 d_j: 6 counter: 1\n",
      "d_i: 5 d_j: 4 counter: 0\n",
      "d_i: 5 d_j: 5 counter: 1\n",
      "d_i: 5 d_j: 6 counter: 1\n",
      "d_i: 6 d_j: 4 counter: 0\n",
      "d_i: 6 d_j: 5 counter: 0\n",
      "d_i: 6 d_j: 6 counter: 1\n",
      "{1: [4, 5, 6], 2: [4, 5, 6], 3: [4, 5, 6]}\n",
      "d_i: 4 d_j: 4 counter: 1\n",
      "d_i: 4 d_j: 5 counter: 1\n",
      "d_i: 4 d_j: 6 counter: 1\n",
      "d_i: 5 d_j: 4 counter: 0\n",
      "d_i: 5 d_j: 5 counter: 1\n",
      "d_i: 5 d_j: 6 counter: 1\n",
      "d_i: 6 d_j: 4 counter: 0\n",
      "d_i: 6 d_j: 5 counter: 0\n",
      "d_i: 6 d_j: 6 counter: 1\n",
      "{1: [4, 5, 6], 2: [4, 5, 6], 3: [4, 5, 6]}\n",
      "d_i: 4 d_j: 4 counter: 1\n",
      "d_i: 4 d_j: 5 counter: 1\n",
      "d_i: 4 d_j: 6 counter: 1\n",
      "d_i: 5 d_j: 4 counter: 0\n",
      "d_i: 5 d_j: 5 counter: 1\n",
      "d_i: 5 d_j: 6 counter: 1\n",
      "d_i: 6 d_j: 4 counter: 0\n",
      "d_i: 6 d_j: 5 counter: 0\n",
      "d_i: 6 d_j: 6 counter: 1\n",
      "{1: [4, 5, 6], 2: [4, 5, 6], 3: [4, 5, 6]}\n"
     ]
    }
   ],
   "source": [
    "def remove_incosistent_values(x_i, x_j):\n",
    "    removed = False\n",
    "    for d_i in domains[x_i]:\n",
    "        counter = 0\n",
    "        for d_j in domains[x_j]:\n",
    "            if d_i == d_j:\n",
    "                counter += 1\n",
    "        if counter == len(domains[x_j]):\n",
    "            domains[x_i].remove(d_i)\n",
    "            removed = True\n",
    "    return removed\n",
    "\n",
    "def ac_3():\n",
    "    queue = [] # all possible list of arcs\n",
    "    for i in range(1, n + 1):\n",
    "        for j in range(i + 1, n + 1):\n",
    "            queue.append((i, j))\n",
    "            queue.append((j, i))\n",
    "            \n",
    "    while queue:\n",
    "        x_i, x_j = queue.pop()\n",
    "        if remove_incosistent_values(x_i, x_j):\n",
    "            for x_k in range(1, n + 1):\n",
    "                if x_k == x_i or x_k == x_j:\n",
    "                    continue\n",
    "                else:\n",
    "                    queue.append((x_k, x_i))\n",
    "\n",
    "        \n",
    "ac_3()"
   ]
  },
  {
   "cell_type": "code",
   "execution_count": 32,
   "metadata": {},
   "outputs": [],
   "source": [
    "domains = {1: [4,5, 6], 2: [4,5, 6], 3: [4,5, 6]}"
   ]
  },
  {
   "cell_type": "code",
   "execution_count": 25,
   "metadata": {},
   "outputs": [
    {
     "data": {
      "text/plain": [
       "[1]"
      ]
     },
     "execution_count": 25,
     "metadata": {},
     "output_type": "execute_result"
    }
   ],
   "source": [
    "a.remove(2)\n",
    "a"
   ]
  }
 ],
 "metadata": {
  "kernelspec": {
   "display_name": "Python 3",
   "language": "python",
   "name": "python3"
  },
  "language_info": {
   "codemirror_mode": {
    "name": "ipython",
    "version": 3
   },
   "file_extension": ".py",
   "mimetype": "text/x-python",
   "name": "python",
   "nbconvert_exporter": "python",
   "pygments_lexer": "ipython3",
   "version": "3.6.9"
  }
 },
 "nbformat": 4,
 "nbformat_minor": 2
}
