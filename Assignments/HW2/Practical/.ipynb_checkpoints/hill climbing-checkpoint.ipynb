{
 "cells": [
  {
   "cell_type": "code",
   "execution_count": 68,
   "metadata": {},
   "outputs": [
    {
     "name": "stdout",
     "output_type": "stream",
     "text": [
      "3\n",
      "4\n",
      "3\n"
     ]
    },
    {
     "ename": "ValueError",
     "evalue": "not enough values to unpack (expected 2, got 1)",
     "output_type": "error",
     "traceback": [
      "\u001b[0;31m---------------------------------------------------------------------------\u001b[0m",
      "\u001b[0;31mValueError\u001b[0m                                Traceback (most recent call last)",
      "\u001b[0;32m<ipython-input-68-1199eba9814e>\u001b[0m in \u001b[0;36m<module>\u001b[0;34m()\u001b[0m\n\u001b[1;32m     55\u001b[0m \u001b[0;34m\u001b[0m\u001b[0m\n\u001b[1;32m     56\u001b[0m \u001b[0;32mfor\u001b[0m \u001b[0mi\u001b[0m \u001b[0;32min\u001b[0m \u001b[0mrange\u001b[0m\u001b[0;34m(\u001b[0m\u001b[0medges_no\u001b[0m\u001b[0;34m)\u001b[0m\u001b[0;34m:\u001b[0m\u001b[0;34m\u001b[0m\u001b[0;34m\u001b[0m\u001b[0m\n\u001b[0;32m---> 57\u001b[0;31m     \u001b[0ma\u001b[0m\u001b[0;34m,\u001b[0m \u001b[0mb\u001b[0m \u001b[0;34m=\u001b[0m \u001b[0mlist\u001b[0m\u001b[0;34m(\u001b[0m\u001b[0mmap\u001b[0m\u001b[0;34m(\u001b[0m\u001b[0mint\u001b[0m\u001b[0;34m,\u001b[0m \u001b[0minput\u001b[0m\u001b[0;34m(\u001b[0m\u001b[0;34m)\u001b[0m\u001b[0;34m.\u001b[0m\u001b[0msplit\u001b[0m\u001b[0;34m(\u001b[0m\u001b[0;34m)\u001b[0m\u001b[0;34m)\u001b[0m\u001b[0;34m)\u001b[0m\u001b[0;34m\u001b[0m\u001b[0;34m\u001b[0m\u001b[0m\n\u001b[0m\u001b[1;32m     58\u001b[0m     \u001b[0mvertices\u001b[0m\u001b[0;34m[\u001b[0m\u001b[0ma\u001b[0m\u001b[0;34m]\u001b[0m\u001b[0;34m.\u001b[0m\u001b[0mappend\u001b[0m\u001b[0;34m(\u001b[0m\u001b[0mb\u001b[0m\u001b[0;34m)\u001b[0m\u001b[0;34m\u001b[0m\u001b[0;34m\u001b[0m\u001b[0m\n\u001b[1;32m     59\u001b[0m     \u001b[0mvertices\u001b[0m\u001b[0;34m[\u001b[0m\u001b[0mb\u001b[0m\u001b[0;34m]\u001b[0m\u001b[0;34m.\u001b[0m\u001b[0mappend\u001b[0m\u001b[0;34m(\u001b[0m\u001b[0ma\u001b[0m\u001b[0;34m)\u001b[0m\u001b[0;34m\u001b[0m\u001b[0;34m\u001b[0m\u001b[0m\n",
      "\u001b[0;31mValueError\u001b[0m: not enough values to unpack (expected 2, got 1)"
     ]
    }
   ],
   "source": [
    "# create a list of vertices\n",
    "def vertices_list(vertices_no):\n",
    "    vertices = {}\n",
    "    for i in range(vertices_no):\n",
    "        vertices.update({i + 1 : []})\n",
    "    return vertices\n",
    "\n",
    "\n",
    "# count the number of edges that goes out of the partition\n",
    "def evaluation(current_state, vertices):\n",
    "    cost = 0\n",
    "    for partition_vertex in current_state:\n",
    "        if len(vertices[partition_vertex]) > 1:\n",
    "            for vertex in vertices[partition_vertex]:\n",
    "                if vertex not in current_state:\n",
    "                    cost += 1\n",
    "        elif len(vertices[partition_vertex]) == 1:\n",
    "            if vertices[partition_vertex][0] not in current_state:\n",
    "                cost += 1\n",
    "    return cost\n",
    "\n",
    "\n",
    "# create a complementary of given list from the vertices list\n",
    "def complementary_list(initial_state, vertices):\n",
    "    complement = []\n",
    "    for vertex in vertices:\n",
    "        if vertex not in initial_state:\n",
    "            complement.append(vertex)\n",
    "    return complement\n",
    "    \n",
    "\n",
    "# create a list of neighbors of given state\n",
    "def neighbors_list(initial_state, complement):\n",
    "    neighbors = []\n",
    "    for i in range(len(initial_state)):\n",
    "        for neigh in complement:\n",
    "            neighbors.append(initial_state[0:i] + [neigh] + initial_state[i + 1:])\n",
    "    return neighbors\n",
    "\n",
    "# implement hill climbing method\n",
    "def hill_climb(initial_state, vertices):\n",
    "    min_value = evaluation(initial_state, vertices)\n",
    "    current_state = initial_state\n",
    "    \n",
    "    while True:\n",
    "        flag = True\n",
    "        complement = complementary_list(current_state, vertices)\n",
    "        neighbors = neighbors_list(current_state, complement)\n",
    "        for neighbor in neighbors:\n",
    "            if evaluation(neighbor, vertices) < min_value:\n",
    "                min_value = evaluation(neighbor, vertices)\n",
    "                current_state = neighbor\n",
    "                flag = False\n",
    "        if flag:\n",
    "            break\n",
    "            \n",
    "    return current_state\n",
    "\n",
    "# input \n",
    "vertices_no = int(input())\n",
    "edges_no = int(input())            \n",
    "vertices = vertices_list(vertices_no)\n",
    "    \n",
    "for i in range(edges_no):\n",
    "    a, b = list(map(int, input().split()))\n",
    "    vertices[a].append(b)\n",
    "    vertices[b].append(a)\n",
    "\n",
    "print(vertices)"
   ]
  },
  {
   "cell_type": "code",
   "execution_count": 66,
   "metadata": {},
   "outputs": [
    {
     "name": "stdout",
     "output_type": "stream",
     "text": [
      "----\n",
      "----\n",
      "----\n"
     ]
    },
    {
     "data": {
      "text/plain": [
       "[[4, 2, 3],\n",
       " [5, 2, 3],\n",
       " [6, 2, 3],\n",
       " [7, 2, 3],\n",
       " [1, 4, 3],\n",
       " [1, 5, 3],\n",
       " [1, 6, 3],\n",
       " [1, 7, 3],\n",
       " [1, 2, 4],\n",
       " [1, 2, 5],\n",
       " [1, 2, 6],\n",
       " [1, 2, 7]]"
      ]
     },
     "execution_count": 66,
     "metadata": {},
     "output_type": "execute_result"
    }
   ],
   "source": [
    "def neighbor_creator(initial_state, complement):\n",
    "    neighbors = []\n",
    "    for i in range(len(initial_state)):\n",
    "        for neigh in complement:\n",
    "            neighbors.append(initial_state[0:i] + [neigh] + initial_state[i + 1:])\n",
    "        print('----')\n",
    "    return neighbors\n",
    "    \n",
    "neighbor_creator([1,2,3], [4,5,6, 7])"
   ]
  },
  {
   "cell_type": "code",
   "execution_count": 63,
   "metadata": {},
   "outputs": [
    {
     "data": {
      "text/plain": [
       "[2, 3, 4]"
      ]
     },
     "execution_count": 63,
     "metadata": {},
     "output_type": "execute_result"
    }
   ],
   "source": [
    "[2, 3] + [4]"
   ]
  }
 ],
 "metadata": {
  "kernelspec": {
   "display_name": "Python 3",
   "language": "python",
   "name": "python3"
  },
  "language_info": {
   "codemirror_mode": {
    "name": "ipython",
    "version": 3
   },
   "file_extension": ".py",
   "mimetype": "text/x-python",
   "name": "python",
   "nbconvert_exporter": "python",
   "pygments_lexer": "ipython3",
   "version": "3.6.8"
  }
 },
 "nbformat": 4,
 "nbformat_minor": 2
}
