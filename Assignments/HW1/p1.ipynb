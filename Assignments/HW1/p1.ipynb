{
 "cells": [
  {
   "cell_type": "markdown",
   "metadata": {},
   "source": [
    "# Uniform Cost Search"
   ]
  },
  {
   "cell_type": "code",
   "execution_count": 3,
   "metadata": {},
   "outputs": [
    {
     "name": "stdout",
     "output_type": "stream",
     "text": [
      "3 6 1 3\n",
      "1 2 5\n",
      "1 3 44\n",
      "2 1 10\n",
      "2 3 19\n",
      "3 1 5\n",
      "3 2 1\n",
      "[<__main__.Path object at 0x7f2b2c3d9860>, <__main__.Path object at 0x7f2b2c413668>, <__main__.Path object at 0x7f2b2c3ce278>, <__main__.Path object at 0x7f2b2c3ce320>, <__main__.Path object at 0x7f2b2c3ce390>, <__main__.Path object at 0x7f2b2c3ce3c8>]\n"
     ]
    }
   ],
   "source": [
    "class Path:\n",
    "    \n",
    "    # Class Variable\n",
    "    s, t = None, None\n",
    "    \n",
    "    # Dunder/Magic Functions\n",
    "    def __init__(self, source, dest, cost):\n",
    "        # Instance Variables\n",
    "        self.src = source\n",
    "        self.dst = dest\n",
    "        self.cost = cost\n",
    "        \n",
    "    def __str__(self):\n",
    "        return 'src: ' + self.src + ' dest: ' + self.dst + ' cost: ' + self.cost\n",
    "    \n",
    "    # Normal Functions\n",
    "    def is_source(self, candidate):\n",
    "        if candidate == self.src:\n",
    "            return True\n",
    "        return False\n",
    "    \n",
    "    def is_dest(self, candidate):\n",
    "        if candidate == self.dst:\n",
    "            return True\n",
    "        return False\n",
    "    \n",
    "    \n",
    "    \n",
    "\n",
    "paths = []\n",
    "\n",
    "n, m, s, t = list(map(int, input().split())) \n",
    "Path.s, Path.t = s, t\n",
    "\n",
    "for i in range(m):\n",
    "    from_, to_, cost_ = list(map(int, input().split()))\n",
    "    new_path = Path(from_, to_, cost_)\n",
    "    paths.append(new_path)\n",
    "\n",
    "print(paths)\n",
    "\n",
    "costs = []\n",
    "fringe = []\n",
    "s_visited = False\n",
    "\n",
    "\n",
    "for path in paths:\n",
    "    if path.src == Path.s:\n",
    "        s_visited = True\n",
    "        if fringe:\n",
    "            for i, item in enumerate(fringe):\n",
    "                if item.src == path.src:\n",
    "                    if path.cost < item.cost:\n",
    "                        del fringe[i]\n",
    "                        fringe.append(path)\n",
    "        else:\n",
    "            fringe.append(path)\n",
    "    if s_visited:\n",
    "        found = False\n",
    "        for i, item in enumerate(fringe):\n",
    "            if item.src == path.src:\n",
    "                found = True\n",
    "                if path.cost < item.cost:\n",
    "                    del fringe[i]\n",
    "                    fringe.append(path)\n",
    "        \n",
    "        if not found:\n",
    "            fringe.append(path)\n",
    "        \n",
    "        \n",
    "total_cost = 0\n",
    "for item in fringe:\n",
    "    total_cost += item.cost"
   ]
  },
  {
   "cell_type": "code",
   "execution_count": 4,
   "metadata": {},
   "outputs": [
    {
     "data": {
      "text/plain": [
       "16"
      ]
     },
     "execution_count": 4,
     "metadata": {},
     "output_type": "execute_result"
    }
   ],
   "source": [
    "total_cost"
   ]
  }
 ],
 "metadata": {
  "kernelspec": {
   "display_name": "Python 3",
   "language": "python",
   "name": "python3"
  },
  "language_info": {
   "codemirror_mode": {
    "name": "ipython",
    "version": 3
   },
   "file_extension": ".py",
   "mimetype": "text/x-python",
   "name": "python",
   "nbconvert_exporter": "python",
   "pygments_lexer": "ipython3",
   "version": "3.6.9"
  }
 },
 "nbformat": 4,
 "nbformat_minor": 2
}
