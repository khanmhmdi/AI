{
 "cells": [
  {
   "cell_type": "code",
   "execution_count": 25,
   "metadata": {
    "ExecuteTime": {
     "end_time": "2020-06-11T21:40:14.667130Z",
     "start_time": "2020-06-11T21:40:14.658533Z"
    }
   },
   "outputs": [],
   "source": [
    "from math import ceil, floor\n",
    "import numpy as np"
   ]
  },
  {
   "cell_type": "markdown",
   "metadata": {},
   "source": [
    "# 1. Pacman\n",
    "\n",
    "1. Finding candidates for destination.\n",
    "2. BFS for each pacman and compute the cost.\n",
    "3. return the maximum cost.\n",
    "4. return the minimum cost of candidates!"
   ]
  },
  {
   "cell_type": "code",
   "execution_count": 96,
   "metadata": {
    "ExecuteTime": {
     "end_time": "2020-06-12T00:02:49.613494Z",
     "start_time": "2020-06-12T00:02:49.579889Z"
    }
   },
   "outputs": [
    {
     "data": {
      "text/plain": [
       "[2, 3]"
      ]
     },
     "execution_count": 96,
     "metadata": {},
     "output_type": "execute_result"
    }
   ],
   "source": [
    "a = [1, 2, 3]\n",
    "a.pop(0)\n",
    "a"
   ]
  },
  {
   "cell_type": "code",
   "execution_count": 92,
   "metadata": {
    "ExecuteTime": {
     "end_time": "2020-06-11T22:50:56.757063Z",
     "start_time": "2020-06-11T22:50:50.731339Z"
    }
   },
   "outputs": [
    {
     "name": "stdout",
     "output_type": "stream",
     "text": [
      "1 2\n",
      "1 1\n",
      "No pacman found!\n"
     ]
    }
   ],
   "source": [
    "def candidate_generator(x, y, m, n):\n",
    "    candidate_locations = []\n",
    "    x_is_float = False if x.is_integer() else True\n",
    "    y_is_float = False if y.is_integer() else True\n",
    "    \n",
    "    \n",
    "    if x_is_float or y_is_float:\n",
    "        \n",
    "        ceil_x, ceil_y  = ceil(x), ceil(y)\n",
    "        floor_x, floor_y = floor(x), floor(y)\n",
    "        \n",
    "        if x_is_float and y_is_float:    \n",
    "            if ceil_x < n and ceil_y < m:\n",
    "                candidate_locations.append((floor_x, floor_y))\n",
    "                candidate_locations.append((floor_x, ceil_y))\n",
    "                candidate_locations.append((ceil_x, floor_y))\n",
    "                candidate_locations.append((ceil_x, ceil_y))\n",
    "            elif ceil_x < n and ceil_y >= m:\n",
    "                candidate_locations.append((floor_x, floor_y))\n",
    "                candidate_locations.append((ceil_x, floor_y))\n",
    "            elif ceil_x >= n and ceil_y < m:\n",
    "                candidate_locations.append((floor_x, floor_y))\n",
    "                candidate_locations.append((floor_x, ceil_y))\n",
    "            else:\n",
    "                candidate_locations.append((floor_x, floor_y))\n",
    "                \n",
    "        elif x_is_float:\n",
    "            if ceil_x < n:\n",
    "                candidate_locations.append((floor_x, int(y)))\n",
    "                candidate_locations.append((ceil_x, int(y)))\n",
    "            else:\n",
    "                candidate_locations.append((floor_x, int(y)))\n",
    "\n",
    "        elif y_is_float:\n",
    "            if ceil_y < m:\n",
    "                candidate_locations.append((int(x), floor_y))\n",
    "                candidate_locations.append((int(x), ceil_y))\n",
    "            else:\n",
    "                candidate_locations.append((int(x), floor_y))\n",
    "    else:\n",
    "        candidate_locations.append((int(x), int(y)))\n",
    "\n",
    "    return candidate_locations\n",
    "\n",
    "def bfs(pacman_locations, game_map, destination):\n",
    "    result = []\n",
    "    for pacman_location in pacman_locations:\n",
    "        distances = []\n",
    "        x, y = pacman_location\n",
    "        fringe = seen_before = [(x, y)]\n",
    "        last = (x, y)\n",
    "        distance = 0\n",
    "        counter = 1\n",
    "        \n",
    "        while fringe:\n",
    "            x, y = fringe.pop(0)\n",
    "            counter -= 1\n",
    "            if x + 1 < n and game_map[x+1][y] != 2:\n",
    "                if (x + 1, y) not in seen_before:\n",
    "                    fringe.append((x + 1, y))\n",
    "                    seen_before.append((x + 1, y))\n",
    "                    if (x + 1, y) == destination:\n",
    "                        distances.append(distance + 1)\n",
    "                        break\n",
    "\n",
    "            if x - 1 >= -1 and game_map[x-1][y] != 2:\n",
    "                if (x - 1, y) not in seen_before:\n",
    "                    fringe.append((x - 1, y))\n",
    "                    seen_before.append((x - 1, y))\n",
    "                    if (x - 1, y) == destination:\n",
    "                        distances.append(distance + 1)\n",
    "                        break\n",
    "            \n",
    "            if y + 1 < m and game_map[x][y+1] != 2:\n",
    "                if (x, y + 1) not in seen_before:\n",
    "                    fringe.append((x, y + 1))\n",
    "                    seen_before.append((x, y + 1))\n",
    "                    if (x, y + 1) == destination:\n",
    "                        distances.append(distance + 1)\n",
    "                        break\n",
    "\n",
    "            if y - 1 >= -1 and game_map[x][y-1] != 2:\n",
    "                if (x, y - 1) not in seen_before:\n",
    "                    fringe.append((x, y - 1))\n",
    "                    seen_before.append((x, y - 1))\n",
    "                    if (x, y - 1) == destination:\n",
    "                        distances.append(distance + 1)\n",
    "                        break\n",
    "            \n",
    "            if counter == 0:\n",
    "                counter = len(fringe)\n",
    "                distance += 1\n",
    "        \n",
    "        longest_distance = max(distances)\n",
    "        result.append(longest_distance)\n",
    "    return min(result)\n",
    "            \n",
    "            \n",
    "                \n",
    "        \n",
    "        \n",
    "        \n",
    "\n",
    "m, n = list(map(int, input().split()))\n",
    "game_map = np.zeros((m, n))\n",
    "pacman_locations = []\n",
    "\n",
    "for i in range(m):\n",
    "    cell_info = input().split()\n",
    "    for j in range(n):\n",
    "        game_map[i][j] = cell_info[j]\n",
    "        if game_map[i][j] == 3:\n",
    "            pacman_locations.append((i, j))\n",
    "\n",
    "k = len(pacman_locations)\n",
    "x_sum, y_sum = 0, 0\n",
    "\n",
    "if k:\n",
    "    for i in range(k):\n",
    "        x, y = pacman_locations[i]\n",
    "        x_sum += y\n",
    "        y_sum += x\n",
    "\n",
    "\n",
    "    integration_point = {\n",
    "        'x': int(x_sum) / k,\n",
    "        'y': int(y_sum) / k\n",
    "    }\n",
    "    \n",
    "    x, y = integration_point['x'], integration_point['y']\n",
    "    candidate_locations = candidate_generator(x, y, m, n)\n",
    "    \n",
    "\n",
    "else:\n",
    "    print('No pacman found!')\n"
   ]
  },
  {
   "cell_type": "code",
   "execution_count": 93,
   "metadata": {
    "ExecuteTime": {
     "end_time": "2020-06-11T23:33:32.764422Z",
     "start_time": "2020-06-11T23:33:32.760414Z"
    }
   },
   "outputs": [
    {
     "data": {
      "text/plain": [
       "[(0, 0)]"
      ]
     },
     "execution_count": 93,
     "metadata": {},
     "output_type": "execute_result"
    }
   ],
   "source": [
    "candidate_locations"
   ]
  },
  {
   "cell_type": "markdown",
   "metadata": {},
   "source": [
    "# 2. Local Search"
   ]
  },
  {
   "cell_type": "code",
   "execution_count": null,
   "metadata": {},
   "outputs": [],
   "source": []
  }
 ],
 "metadata": {
  "kernelspec": {
   "display_name": "Python 3",
   "language": "python",
   "name": "python3"
  },
  "language_info": {
   "codemirror_mode": {
    "name": "ipython",
    "version": 3
   },
   "file_extension": ".py",
   "mimetype": "text/x-python",
   "name": "python",
   "nbconvert_exporter": "python",
   "pygments_lexer": "ipython3",
   "version": "3.6.9"
  }
 },
 "nbformat": 4,
 "nbformat_minor": 2
}
