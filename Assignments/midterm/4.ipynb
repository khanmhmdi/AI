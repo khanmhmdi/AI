{
 "cells": [
  {
   "cell_type": "code",
   "execution_count": null,
   "metadata": {
    "ExecuteTime": {
     "start_time": "2020-06-14T15:53:36.339Z"
    }
   },
   "outputs": [
    {
     "name": "stdout",
     "output_type": "stream",
     "text": [
      "3 2 1\n",
      "1 2\n",
      "3 2\n",
      "2\n",
      "1 3\n",
      "all_edges: {1: [2], 2: [1, 3], 3: [2]}\n",
      "b 2\n"
     ]
    }
   ],
   "source": [
    "def get_result():\n",
    "    for p in paths:\n",
    "\n",
    "        is_active = True\n",
    "        variables = len(p) - 2\n",
    "        for i in range(variables):\n",
    "            var_x, var_y, var_z = p[i: i + 3]\n",
    "            if (var_y in all_edges[var_x]) and (var_z in all_edges[var_y]) and (var_y in evidences):\n",
    "                is_active = False\n",
    "            \n",
    "            if (var_x in all_edges[var_y]) and (var_z in all_edges[var_y]) and (var_y in evidences):\n",
    "                is_active = False\n",
    "            \n",
    "            if (var_y in all_edges[var_x]) and (var_y in all_edges[var_z]):\n",
    "                \n",
    "                is_children = False\n",
    "                nodes = all_edges[var_y]\n",
    "                for node in nodes:\n",
    "                    if node in evidences:\n",
    "                        is_children = True\n",
    "                    if all_edges[node]:\n",
    "                        nodes += all_edges[node]\n",
    "                \n",
    "                if (var_y not in evidences) and not is_children:\n",
    "                    is_active = False\n",
    "        \n",
    "        if is_active:\n",
    "            return p\n",
    "    return None\n",
    "    \n",
    "\n",
    "\n",
    "def get_path(q1, q2, path):\n",
    "    path.append(q1)\n",
    "    visited[q1] = True\n",
    "    if q1 != q2:\n",
    "        for edge in all_edges[q1]:\n",
    "            if not visited[edge]:\n",
    "                get_path(edge, q2, path)\n",
    "    else:\n",
    "        paths.append(path[:])\n",
    "    path.pop()\n",
    "    visited[q1] = False\n",
    "    \n",
    "def get_list_int():\n",
    "    return list(map(int, input().split()))\n",
    "\n",
    "\n",
    "def get_edges(m):\n",
    "    edges, all_edges = dict(), dict()\n",
    "    for _ in range(m):\n",
    "        first, second = get_list_int()\n",
    "        if first not in edges:\n",
    "            edges[first] = list()\n",
    "        if first not in all_edges:\n",
    "            all_edges[first] = list()\n",
    "        if second not in all_edges:\n",
    "            all_edges[second] = list()\n",
    "        edges[first].append(second)\n",
    "        all_edges[first].append(second)\n",
    "        all_edges[second].append(first)\n",
    "    return edges, all_edges\n",
    "\n",
    "\n",
    "def get_evidence(z):\n",
    "    evidences = set()\n",
    "    for _ in range(z):\n",
    "        evidence = int(input())\n",
    "        evidences.add(evidence)\n",
    "    return evidences\n",
    "\n",
    "\n",
    "def get_query():\n",
    "    queries = get_list_int()\n",
    "    q1, q2 = queries[0], queries[1]\n",
    "    return q1, q2\n",
    "\n",
    "\n",
    "# input\n",
    "n, m, z = get_list_int()\n",
    "edges, all_edges = get_edges(m)\n",
    "paths, visited = list(), [False] * (n + 1)\n",
    "evidences = get_evidence(z)\n",
    "q1, q2 = get_query()\n",
    "\n",
    "#output\n",
    "path = []\n",
    "get_path(q1, q2, path)\n",
    "result = get_result()\n",
    "if result:\n",
    "    ', '.join([str(node) for node in result])\n",
    "else:\n",
    "    print('independent')"
   ]
  },
  {
   "cell_type": "code",
   "execution_count": 11,
   "metadata": {
    "ExecuteTime": {
     "end_time": "2020-06-14T12:24:19.973322Z",
     "start_time": "2020-06-14T12:24:07.593722Z"
    }
   },
   "outputs": [
    {
     "name": "stdout",
     "output_type": "stream",
     "text": [
      "3 2 1\n",
      "1 2\n",
      "3 2\n",
      "undirected_edges [[], [2], [1, 3], [2]]\n",
      "edges [[], [2], [], [2]]\n",
      "2\n",
      "1 3\n",
      "1, 2, 3\n",
      "independent\n",
      "None\n"
     ]
    }
   ],
   "source": []
  },
  {
   "cell_type": "code",
   "execution_count": 5,
   "metadata": {
    "ExecuteTime": {
     "end_time": "2020-06-14T13:00:40.073756Z",
     "start_time": "2020-06-14T13:00:40.062111Z"
    }
   },
   "outputs": [
    {
     "name": "stdout",
     "output_type": "stream",
     "text": [
      "2\n"
     ]
    }
   ],
   "source": [
    "def b():\n",
    "    print(a)\n",
    "    \n",
    "a = 2\n",
    "b()"
   ]
  }
 ],
 "metadata": {
  "kernelspec": {
   "display_name": "Python 3",
   "language": "python",
   "name": "python3"
  },
  "language_info": {
   "codemirror_mode": {
    "name": "ipython",
    "version": 3
   },
   "file_extension": ".py",
   "mimetype": "text/x-python",
   "name": "python",
   "nbconvert_exporter": "python",
   "pygments_lexer": "ipython3",
   "version": "3.6.9"
  }
 },
 "nbformat": 4,
 "nbformat_minor": 2
}
