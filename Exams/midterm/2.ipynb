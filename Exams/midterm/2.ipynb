{
 "cells": [
  {
   "cell_type": "code",
   "execution_count": 1,
   "metadata": {
    "ExecuteTime": {
     "end_time": "2020-06-13T12:56:39.902064Z",
     "start_time": "2020-06-13T12:56:39.886311Z"
    }
   },
   "outputs": [],
   "source": [
    "import random"
   ]
  },
  {
   "cell_type": "code",
   "execution_count": 2,
   "metadata": {
    "ExecuteTime": {
     "end_time": "2020-06-13T12:56:44.911489Z",
     "start_time": "2020-06-13T12:56:41.611116Z"
    }
   },
   "outputs": [
    {
     "name": "stdout",
     "output_type": "stream",
     "text": [
      "6\n",
      "4\n",
      "2\n"
     ]
    }
   ],
   "source": [
    "m = int(input()) #number of regions\n",
    "b = int(input()) #number of bids\n",
    "c = int(input()) #number of operators"
   ]
  },
  {
   "cell_type": "code",
   "execution_count": 20,
   "metadata": {
    "ExecuteTime": {
     "end_time": "2020-06-13T14:35:58.193674Z",
     "start_time": "2020-06-13T14:35:30.726824Z"
    }
   },
   "outputs": [
    {
     "name": "stdout",
     "output_type": "stream",
     "text": [
      "0 3000 0 1 4 #\n",
      "0 2000 0 1 5 #\n",
      "1 1000.5 2 3 #\n",
      "1 1525.75 0 1 2 3 4 5 #\n"
     ]
    }
   ],
   "source": [
    "#Done\n",
    "offers = list()\n",
    "local_maximum = 0\n",
    "result = [0] * b\n",
    "\n",
    "for _ in range(b):\n",
    "    offer_details = list(map(float, input()[: -1].split()))\n",
    "    protocol_name = int(offer_details[0])\n",
    "    price = offer_details[1]\n",
    "    regions = list(map(int, offer_details[2:]))\n",
    "    offers.append([protocol_name, price, regions])"
   ]
  },
  {
   "cell_type": "code",
   "execution_count": 10,
   "metadata": {
    "ExecuteTime": {
     "end_time": "2020-06-13T12:59:55.978210Z",
     "start_time": "2020-06-13T12:59:55.958445Z"
    }
   },
   "outputs": [
    {
     "data": {
      "text/plain": [
       "[[0, 3000.0, [0, 1, 4]],\n",
       " [0, 2000.0, [0, 1, 5]],\n",
       " [1, 1000.5, [2, 3]],\n",
       " [1, 1525.75, [0, 1, 2, 3, 4, 5]]]"
      ]
     },
     "execution_count": 10,
     "metadata": {},
     "output_type": "execute_result"
    }
   ],
   "source": [
    "offers"
   ]
  },
  {
   "cell_type": "code",
   "execution_count": 37,
   "metadata": {
    "ExecuteTime": {
     "end_time": "2020-06-13T17:18:05.178707Z",
     "start_time": "2020-06-13T17:18:05.085497Z"
    }
   },
   "outputs": [
    {
     "name": "stdout",
     "output_type": "stream",
     "text": [
      "0 2 #\n"
     ]
    }
   ],
   "source": [
    "#Done\n",
    "from random import randint as rnd\n",
    "\n",
    "# m = int(input())\n",
    "# b = int(input())\n",
    "# c = int(input())\n",
    "\n",
    "m, b, c = 6, 4, 2\n",
    "\n",
    "# offers = list()\n",
    "offers = [[0, 3000.0, [0, 1, 4]],\n",
    " [0, 2000.0, [0, 1, 5]],\n",
    " [1, 1000.5, [2, 3]],\n",
    " [1, 1525.75, [0, 1, 2, 3, 4, 5]]]\n",
    "\n",
    "local_maximum = 0\n",
    "results = [0] * b\n",
    "state = [0 for i in range(0, b)]\n",
    "\n",
    "# for _ in range(b):\n",
    "#     offer_details = list(map(float, input()[: -1].split()))\n",
    "#     protocol_name = int(offer_details[0])\n",
    "#     price = offer_details[1]\n",
    "#     regions = list(map(int, offer_details[2:]))\n",
    "#     offers.append([protocol_name, price, regions])\n",
    "\n",
    "def get_state_value(state):\n",
    "    summation, accepted_regions = 0, [0] * m\n",
    "\n",
    "    for offer_id in range (b):\n",
    "        if state[offer_id] == 1:\n",
    "            income = offers[offer_id][1]\n",
    "            summation += income\n",
    "            regions = offers[offer_id][2]\n",
    "            # print('state:', state)\n",
    "            # print('income:', income)\n",
    "            # print('regions:', regions)\n",
    "            for region in regions:\n",
    "                if accepted_regions[region]:\n",
    "                    return -1\n",
    "                accepted_regions[region] = 1\n",
    "\n",
    "    return summation\n",
    "\n",
    "def get_random_neighbor(state):\n",
    "    random_no = rnd(0, b - 1)\n",
    "    if state[random_no] == 1:\n",
    "        state[random_no] = 0\n",
    "    else:\n",
    "        state[random_no] = 1\n",
    "    return state\n",
    "\n",
    "def local_search(state):\n",
    "    global results, local_maximum\n",
    "\n",
    "    for i in range(10):\n",
    "        get_random_neighbor(state)\n",
    "\n",
    "        if get_state_value(state) > local_maximum:\n",
    "            results = state[:]\n",
    "            local_maximum = get_state_value(state)\n",
    "            local_search(state)\n",
    "        else:\n",
    "            pass\n",
    "\n",
    "\n",
    "local_search(state)\n",
    "for i in range(500):\n",
    "    state = results[:]\n",
    "    local_search(state)\n",
    "\n",
    "\n",
    "for index, result in enumerate(results):\n",
    "    if result == 1:\n",
    "        print(index, end=' ')\n",
    "\n",
    "print('#')"
   ]
  }
 ],
 "metadata": {
  "kernelspec": {
   "display_name": "Python 3",
   "language": "python",
   "name": "python3"
  },
  "language_info": {
   "codemirror_mode": {
    "name": "ipython",
    "version": 3
   },
   "file_extension": ".py",
   "mimetype": "text/x-python",
   "name": "python",
   "nbconvert_exporter": "python",
   "pygments_lexer": "ipython3",
   "version": "3.6.9"
  }
 },
 "nbformat": 4,
 "nbformat_minor": 2
}
