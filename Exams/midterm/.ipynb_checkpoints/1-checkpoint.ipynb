{
 "cells": [
  {
   "cell_type": "code",
   "execution_count": 25,
   "metadata": {
    "ExecuteTime": {
     "end_time": "2020-06-11T21:40:14.667130Z",
     "start_time": "2020-06-11T21:40:14.658533Z"
    }
   },
   "outputs": [],
   "source": [
    "from math import ceil, floor\n",
    "import numpy as np"
   ]
  },
  {
   "cell_type": "markdown",
   "metadata": {},
   "source": [
    "# 1. Pacman\n",
    "\n",
    "1. Finding candidates for destination.\n",
    "2. BFS for each pacman and compute the cost.\n",
    "3. return the maximum cost.\n",
    "4. return the minimum cost of candidates!"
   ]
  },
  {
   "cell_type": "code",
   "execution_count": 232,
   "metadata": {
    "ExecuteTime": {
     "end_time": "2020-06-12T22:59:58.606838Z",
     "start_time": "2020-06-12T22:59:51.124907Z"
    }
   },
   "outputs": [
    {
     "name": "stdout",
     "output_type": "stream",
     "text": [
      "3 3\n",
      "3 2 3\n",
      "1 3 1\n",
      "3 2 3\n",
      "destination: (1, 1)\n",
      "pacman_location (0, 0)\n",
      "distance 2\n",
      "-------------\n",
      "destination: (1, 1)\n",
      "pacman_location (0, 2)\n",
      "distance 2\n",
      "-------------\n",
      "[2, 2]\n",
      "destination: (1, 1)\n",
      "pacman_location (1, 1)\n",
      "distance 0\n",
      "-------------\n",
      "destination: (1, 1)\n",
      "pacman_location (2, 0)\n",
      "distance 2\n",
      "-------------\n",
      "destination: (1, 1)\n",
      "pacman_location (2, 2)\n",
      "distance 2\n",
      "-------------\n",
      "[2, 2, 0, 2, 2]\n",
      "destination (1, 1)\n",
      "distances: [2, 2, 0, 2, 2]\n",
      "result [2]\n",
      "2\n"
     ]
    }
   ],
   "source": [
    "def candidate_generator(x, y, m, n):\n",
    "    candidate_locations = []\n",
    "    x_is_float = False if x.is_integer() else True\n",
    "    y_is_float = False if y.is_integer() else True\n",
    "    \n",
    "    \n",
    "    if x_is_float or y_is_float:\n",
    "        \n",
    "        ceil_x, ceil_y  = ceil(x), ceil(y)\n",
    "        floor_x, floor_y = floor(x), floor(y)\n",
    "        \n",
    "        if x_is_float and y_is_float:    \n",
    "            if ceil_x < n and ceil_y < m:\n",
    "                if game_map[floor_x][floor_y] != 2:\n",
    "                    candidate_locations.append((floor_x, floor_y))\n",
    "                if game_map[floor_x][ceil_y] != 2:\n",
    "                    candidate_locations.append((floor_x, ceil_y))\n",
    "                if game_map[ceil_x][floor_y] != 2:\n",
    "                    candidate_locations.append((ceil_x, floor_y))\n",
    "                if game_map[ceil_x][ceil_y] != 2:\n",
    "                    candidate_locations.append((ceil_x, ceil_y))\n",
    "            elif ceil_x < n and ceil_y >= m:\n",
    "                if game_map[floor_x][floor_y] != 2:\n",
    "                    candidate_locations.append((floor_x, floor_y))\n",
    "                if game_map[ceil_x][floor_y] != 2:\n",
    "                    candidate_locations.append((ceil_x, floor_y))\n",
    "            elif ceil_x >= n and ceil_y < m:\n",
    "                if game_map[floor_x][floor_y] != 2:\n",
    "                    candidate_locations.append((floor_x, floor_y))\n",
    "                if game_map[floor_x][ceil_y] != 2:\n",
    "                    candidate_locations.append((floor_x, ceil_y))\n",
    "            else:\n",
    "                candidate_locations.append((floor_x, floor_y))\n",
    "                \n",
    "        elif x_is_float:\n",
    "            if ceil_x < n:\n",
    "                if game_map[floor_x][int(y)] != 2:\n",
    "                    candidate_locations.append((floor_x, int(y)))\n",
    "                if game_map[ceil_x][int(y)] != 2:\n",
    "                    candidate_locations.append((ceil_x, int(y)))\n",
    "            else:\n",
    "                candidate_locations.append((floor_x, int(y)))\n",
    "\n",
    "        elif y_is_float:\n",
    "            if ceil_y < m:\n",
    "                if game_map[int(x)][floor_y] != 2:\n",
    "                    candidate_locations.append((int(x), floor_y))\n",
    "                if game_map[int(x)][ceil_y]:\n",
    "                    candidate_locations.append((int(x), ceil_y))\n",
    "            else:\n",
    "                candidate_locations.append((int(x), floor_y))\n",
    "    else:\n",
    "        candidate_locations.append((int(x), int(y)))\n",
    "\n",
    "    return candidate_locations\n",
    "\n",
    "def bfs(pacman_locations, game_map, destinations):\n",
    "    result = []\n",
    "    distances = []\n",
    "    for destination in destinations:\n",
    "        for pacman_location in pacman_locations:\n",
    "            print('destination:', destination)\n",
    "            print('pacman_location', pacman_location)\n",
    "            x, y = pacman_location\n",
    "            fringe = [(x, y)]\n",
    "            seen_before = fringe.copy()\n",
    "            last = (x, y)\n",
    "            distance = 0\n",
    "            counter = 1\n",
    "            if destination == pacman_location:\n",
    "                print('distance', 0)\n",
    "                print('-------------')\n",
    "                distances.append(0)\n",
    "\n",
    "            else:\n",
    "\n",
    "                while fringe:\n",
    "                    x, y = fringe.pop(0)\n",
    "                    counter -= 1\n",
    "                    if x + 1 < m:\n",
    "                        if game_map[x+1][y] != 2:\n",
    "                            if (x + 1, y) not in seen_before:\n",
    "                                fringe.append((x + 1, y))\n",
    "                                seen_before.append((x + 1, y))\n",
    "                                if (x + 1, y) == destination:\n",
    "                                    distances.append(distance + 1)\n",
    "                                    print('distance', distance + 1)\n",
    "                                    print('-------------')\n",
    "                                    break\n",
    "\n",
    "                    if x - 1 > -1:\n",
    "                        if game_map[x-1][y] != 2:\n",
    "                            if (x - 1, y) not in seen_before:\n",
    "                                fringe.append((x - 1, y))\n",
    "                                seen_before.append((x - 1, y))\n",
    "                                if (x - 1, y) == destination:\n",
    "                                    distances.append(distance + 1)\n",
    "                                    print('distance', distance + 1)\n",
    "                                    print('-------------')\n",
    "                                    break\n",
    "\n",
    "\n",
    "                    if y + 1 < n:\n",
    "                        if game_map[x][y+1] != 2:\n",
    "                            if (x, y + 1) not in seen_before:\n",
    "                                fringe.append((x, y + 1))\n",
    "                                seen_before.append((x, y + 1))\n",
    "                                if (x, y + 1) == destination:\n",
    "                                    distances.append(distance + 1)\n",
    "                                    print('distance', distance + 1)\n",
    "                                    print('-------------')\n",
    "                                    break\n",
    "\n",
    "                    if y - 1 > -1:\n",
    "                        if game_map[x][y-1] != 2:\n",
    "                            if (x, y - 1) not in seen_before:\n",
    "                                fringe.append((x, y - 1))\n",
    "                                seen_before.append((x, y - 1))\n",
    "                                if (x, y - 1) == destination:\n",
    "                                    distances.append(distance + 1)\n",
    "                                    print('distance', distance + 1)\n",
    "                                    print('-------------')\n",
    "                                    break\n",
    "\n",
    "                    if counter == 0:\n",
    "                        counter = len(fringe)\n",
    "                        distance += 1\n",
    "\n",
    "\n",
    "                \n",
    "                \n",
    "\n",
    "        longest_distance = max(distances)\n",
    "        print('destination', destination)\n",
    "        print('distances:', distances)\n",
    "        result.append(longest_distance)\n",
    "    print('result', result)\n",
    "    return min(result)\n",
    "            \n",
    "m, n = list(map(int, input().split()))\n",
    "game_map = np.zeros((m, n))\n",
    "pacman_locations = []\n",
    "\n",
    "for i in range(m):\n",
    "    cell_info = input().split()\n",
    "    for j in range(n):\n",
    "        game_map[i][j] = cell_info[j]\n",
    "        if game_map[i][j] == 3:\n",
    "            pacman_locations.append((i, j))\n",
    "\n",
    "k = len(pacman_locations)\n",
    "x_sum, y_sum = 0, 0\n",
    "\n",
    "if k:\n",
    "    if k == 1:\n",
    "        print(0)\n",
    "    else:   \n",
    "        for i in range(k):\n",
    "            x, y = pacman_locations[i]\n",
    "            x_sum += y\n",
    "            y_sum += x\n",
    "\n",
    "        integration_point = {\n",
    "            'x': int(x_sum) / k,\n",
    "            'y': int(y_sum) / k\n",
    "        }\n",
    "\n",
    "        x, y = integration_point['x'], integration_point['y']\n",
    "        candidate_locations = candidate_generator(y, x, m, n)\n",
    "        minimum_distance = bfs(pacman_locations, game_map, candidate_locations)\n",
    "        print(minimum_distance)\n",
    "\n",
    "else:\n",
    "    print('No pacman found!')\n"
   ]
  },
  {
   "cell_type": "code",
   "execution_count": 231,
   "metadata": {
    "ExecuteTime": {
     "end_time": "2020-06-12T22:59:28.254769Z",
     "start_time": "2020-06-12T22:59:28.249842Z"
    }
   },
   "outputs": [
    {
     "data": {
      "text/plain": [
       "[(0, 0), (0, 2), (1, 0), (1, 2), (2, 0), (2, 2)]"
      ]
     },
     "execution_count": 231,
     "metadata": {},
     "output_type": "execute_result"
    }
   ],
   "source": [
    "pacman_locations"
   ]
  },
  {
   "cell_type": "markdown",
   "metadata": {},
   "source": [
    "# 2. Local Search"
   ]
  },
  {
   "cell_type": "code",
   "execution_count": 110,
   "metadata": {
    "ExecuteTime": {
     "end_time": "2020-06-12T13:23:32.833604Z",
     "start_time": "2020-06-12T13:23:30.312848Z"
    }
   },
   "outputs": [
    {
     "name": "stdout",
     "output_type": "stream",
     "text": [
      "6\n",
      "4\n",
      "2\n"
     ]
    }
   ],
   "source": [
    "m = int(input()) #number of regions\n",
    "b = int(input()) #number of bids\n",
    "c = int(input()) #number of operators"
   ]
  },
  {
   "cell_type": "code",
   "execution_count": 141,
   "metadata": {
    "ExecuteTime": {
     "end_time": "2020-06-12T14:09:44.113476Z",
     "start_time": "2020-06-12T14:09:01.291487Z"
    }
   },
   "outputs": [
    {
     "name": "stdout",
     "output_type": "stream",
     "text": [
      "0 3000 0 1 4 #\n",
      "0 2000 0 1 5 #\n",
      "1 1000.5 2 3 #\n",
      "1 1525.75 0 1 2 3 4 5 #\n"
     ]
    }
   ],
   "source": [
    "offers = {}\n",
    "\n",
    "for request_id in range(b):\n",
    "    offer_details = list(map(float, input()[: -1].split()))\n",
    "    protocol_name = int(offer_details[0])\n",
    "    price = offer_details[1]\n",
    "    regions = list(map(int, offer_details[2:]))\n",
    "    if protocol_name not in offers:\n",
    "        offers[protocol_name] = []\n",
    "    \n",
    "    offers[protocol_name].append([request_id, price, regions])"
   ]
  },
  {
   "cell_type": "code",
   "execution_count": 142,
   "metadata": {
    "ExecuteTime": {
     "end_time": "2020-06-12T14:09:46.913212Z",
     "start_time": "2020-06-12T14:09:46.904759Z"
    }
   },
   "outputs": [
    {
     "data": {
      "text/plain": [
       "{0: [[0, 3000.0, [0, 1, 4]], [1, 2000.0, [0, 1, 5]]],\n",
       " 1: [[2, 1000.5, [2, 3]], [3, 1525.75, [0, 1, 2, 3, 4, 5]]]}"
      ]
     },
     "execution_count": 142,
     "metadata": {},
     "output_type": "execute_result"
    }
   ],
   "source": [
    "offers"
   ]
  },
  {
   "cell_type": "code",
   "execution_count": 143,
   "metadata": {
    "ExecuteTime": {
     "end_time": "2020-06-12T14:09:51.148824Z",
     "start_time": "2020-06-12T14:09:51.138008Z"
    }
   },
   "outputs": [
    {
     "data": {
      "text/plain": [
       "int"
      ]
     },
     "execution_count": 143,
     "metadata": {},
     "output_type": "execute_result"
    }
   ],
   "source": [
    "type(list(offers.keys())[0])"
   ]
  },
  {
   "cell_type": "code",
   "execution_count": 150,
   "metadata": {
    "ExecuteTime": {
     "end_time": "2020-06-12T14:15:46.817950Z",
     "start_time": "2020-06-12T14:15:46.806002Z"
    }
   },
   "outputs": [
    {
     "data": {
      "text/plain": [
       "[1, 2000.0, [0, 1, 5]]"
      ]
     },
     "execution_count": 150,
     "metadata": {},
     "output_type": "execute_result"
    }
   ],
   "source": [
    "offers[0][1]"
   ]
  },
  {
   "cell_type": "code",
   "execution_count": 126,
   "metadata": {
    "ExecuteTime": {
     "end_time": "2020-06-12T13:54:35.916278Z",
     "start_time": "2020-06-12T13:54:35.910986Z"
    }
   },
   "outputs": [],
   "source": [
    "def intersection(list1, list2):\n",
    "    for i in list1:\n",
    "        if i in list2:\n",
    "            return True\n",
    "    return False"
   ]
  },
  {
   "cell_type": "code",
   "execution_count": 128,
   "metadata": {
    "ExecuteTime": {
     "end_time": "2020-06-12T13:54:55.449590Z",
     "start_time": "2020-06-12T13:54:55.444710Z"
    }
   },
   "outputs": [
    {
     "data": {
      "text/plain": [
       "False"
      ]
     },
     "execution_count": 128,
     "metadata": {},
     "output_type": "execute_result"
    }
   ],
   "source": [
    "intersection([1, 2, 3], [5, 4])"
   ]
  },
  {
   "cell_type": "code",
   "execution_count": 162,
   "metadata": {
    "ExecuteTime": {
     "end_time": "2020-06-12T14:23:50.081859Z",
     "start_time": "2020-06-12T14:23:50.019429Z"
    }
   },
   "outputs": [
    {
     "name": "stdout",
     "output_type": "stream",
     "text": [
      "[0, 1, 4]\n",
      "[2, 1000.5, [2, 3]]\n",
      "[3, 1525.75, [0, 1, 2, 3, 4, 5]]\n",
      "[0, 1, 5]\n",
      "[2, 1000.5, [2, 3]]\n",
      "[3, 1525.75, [0, 1, 2, 3, 4, 5]]\n"
     ]
    }
   ],
   "source": [
    "acceptable_contractions = []\n",
    "\n",
    "if c >= 2:\n",
    "    keys = list(offers.keys())\n",
    "    key_no = len(keys)\n",
    "    for i in range(key_no - 1):\n",
    "        for k in range(len(offers[i])):\n",
    "            region1 = offers[i][k][2]\n",
    "            for j in range(i + 1, key_no):\n",
    "                for l in range(len(offers[j])):\n",
    "                    region2 = offers[j][l][2]\n",
    "                    if not intersection(region1, region2):\n",
    "                        region1.extend(region2)\n",
    "            \n",
    "else:\n",
    "    pass"
   ]
  },
  {
   "cell_type": "code",
   "execution_count": 138,
   "metadata": {
    "ExecuteTime": {
     "end_time": "2020-06-12T14:05:55.757636Z",
     "start_time": "2020-06-12T14:05:55.746371Z"
    }
   },
   "outputs": [
    {
     "name": "stdout",
     "output_type": "stream",
     "text": [
      "(0, 3000.0, [0, 1, 4])\n",
      "(1, 2000.0, [0, 1, 5])\n"
     ]
    }
   ],
   "source": [
    "for i in [(0, 3000.0, [0, 1, 4]), (1, 2000.0, [0, 1, 5])]:\n",
    "    print(i)\n"
   ]
  },
  {
   "cell_type": "code",
   "execution_count": 227,
   "metadata": {
    "ExecuteTime": {
     "end_time": "2020-06-12T22:55:40.868973Z",
     "start_time": "2020-06-12T22:55:40.863345Z"
    }
   },
   "outputs": [
    {
     "data": {
      "text/plain": [
       "[2, 2]"
      ]
     },
     "execution_count": 227,
     "metadata": {},
     "output_type": "execute_result"
    }
   ],
   "source": [
    "a = [2]\n",
    "a.append(2)\n",
    "a\n"
   ]
  }
 ],
 "metadata": {
  "kernelspec": {
   "display_name": "Python 3",
   "language": "python",
   "name": "python3"
  },
  "language_info": {
   "codemirror_mode": {
    "name": "ipython",
    "version": 3
   },
   "file_extension": ".py",
   "mimetype": "text/x-python",
   "name": "python",
   "nbconvert_exporter": "python",
   "pygments_lexer": "ipython3",
   "version": "3.6.9"
  }
 },
 "nbformat": 4,
 "nbformat_minor": 2
}
